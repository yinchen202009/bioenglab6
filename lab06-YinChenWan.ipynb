{
 "cells": [
  {
   "cell_type": "markdown",
   "metadata": {},
   "source": [
    "# Lab Assignment 6"
   ]
  },
  {
   "cell_type": "markdown",
   "metadata": {},
   "source": [
    "## Outline of lab:\n",
    "1. Use **bowtie2** to align the llumina MiSeq reads from a sequencing run of _Shewanella oneidensis_ to the human genome, filtering the reads for contamination from human cells(Friend Jamie's DNA)\n",
    "2. USe **bowtie2** to align the filtred reads to the _S. oneidensis_ reference genome\n",
    "3. Use **samtools** to calculate coverage and **matplotlib** to plot the results\n",
    "4. Determine biological sex of Jamie(human DNA who contaminated the reads"
   ]
  },
  {
   "cell_type": "markdown",
   "metadata": {},
   "source": [
    "# 1. Align the Illumina reads to the human genome\n",
    "**bowtie2 -p4 --very-fast --no-unal -x /data/hg19/hg19 \\ -U /data/lab6/illumina_reads.fastq reads.fastq -S output.sam --un unaligned.fastq**\n",
    "\n",
    "Output on terminal:\n",
    "\n",
    "```\n",
    "1124714 reads; of these:\n",
    " \n",
    " 1124714 (100.00%) were unpaired; of these:\n",
    "    \n",
    "    1028379 (91.43%) aligned 0 times\n",
    "    \n",
    "    87274 (7.76%) aligned exactly 1 time\n",
    "    \n",
    "    9061 (0.81%) aligned >1 times\n",
    "\n",
    "8.57% overall alignment rate\n",
    "```\n",
    "\n",
    "## If you use the --un unaligned.fastq option, what will unaligned.fastq contain?\n",
    "--un discard the unaligned reads. Thus unaligned.fastq contains human(friend's) DNA that contaminated the bacteria sample\n",
    "\n",
    "## What percentage of your sequencing library came from contaminating human DNA?\n",
    "8.57%"
   ]
  },
  {
   "cell_type": "markdown",
   "metadata": {},
   "source": [
    "## 2. Align the reads to the S. oneidensisreference genome\n",
    "**bowtie2 -p 4 --very-fast --no-unal -x /data/lab6/shewanella_oneidensis_mr-1 \\ -U unaligned.fastq -S output2.sam --un unaligned2.fastq**\n",
    "\n",
    "Output on terminal:\n",
    "```\n",
    "1028379 reads; of these:\n",
    "  1028379 (100.00%) were unpaired; of these:\n",
    "    299560 (29.13%) aligned 0 times\n",
    "    687571 (66.86%) aligned exactly 1 time\n",
    "    41248 (4.01%) aligned >1 times\n",
    "70.87% overall alignment rate\n",
    "```\n",
    "\n",
    "## If you use the --un unaligned.fastq option, what will unaligned.fastq contain?\n",
    "It contains the reads from illumina that did not align to the _S. oneidensis MR-1_ reference genome in the bowtie database.\n",
    "\n",
    "## What percentage of your filtered library didn’t align to the reference genome?\n",
    "100%-64.80% = 29.13% \n",
    "Thus 29.13% did not align to the reference genome.\n",
    "\n",
    "## If you use --very-sensitive instead of --very-fast, does this percentage increase or decrease?\n",
    "**bowtie2 -p 4 --very-sensitive --no-unal -x /data/lab6/shewanella_oneidensis_mr-1 \\ -U unaligned.fastq -S output2.sam --un unaligned2.fastq**\n",
    "\n",
    "Output on terminal:\n",
    "```\n",
    "1028379 reads; of these:\n",
    "  1028379 (100.00%) were unpaired; of these:\n",
    "    298112 (28.99%) aligned 0 times\n",
    "    688180 (66.92%) aligned exactly 1 time\n",
    "    42087 (4.09%) aligned >1 times\n",
    "71.01% overall alignment rate\n",
    "```\n",
    "The percentage of alignment goes up a little(0.14%)."
   ]
  },
  {
   "cell_type": "markdown",
   "metadata": {},
   "source": [
    "# 3. Coverage plot\n",
    "Use **samtools** to calculate coverage:\n",
    "\n",
    "Convert SAM file to BAM file:\n",
    "```\n",
    "samtools view -b output2.sam > output2.bam\n",
    "```\n",
    "Sorts BAM file by coordinates:\n",
    "```\n",
    "samtools sort output2.bam > output2.sorted.bam\n",
    "```\n",
    "Generates an index which facilitates random access of the BAM file by alignment coordinates.:\n",
    "```\n",
    "samtools index output2.sorted.bam\n",
    "```\n",
    "Generates a list of coordinates in a genome and the number of times a read aligned to that position:\n",
    "```\n",
    "samtools depth -a output2.sorted.bam > pileup2.tab\n",
    "```\n"
   ]
  },
  {
   "cell_type": "code",
   "execution_count": 1,
   "metadata": {},
   "outputs": [
    {
     "name": "stdout",
     "output_type": "stream",
     "text": [
      "37.03830306625343\n",
      "281\n",
      "0\n"
     ]
    }
   ],
   "source": [
    "dat = open(\"pileup2.tab\",\"r\")\n",
    "list1 = []\n",
    "for line in dat:\n",
    "    column3 = line.split('\\t')\n",
    "    list1.append(int(column3[2]))\n",
    "    \n",
    "# Determine the minimum, maximum, and mean coverage for all positions\n",
    "\n",
    "import numpy\n",
    "\n",
    "mean = numpy.mean(list1)\n",
    "print(mean)\n",
    "max = numpy.amax(list1)\n",
    "print(max)\n",
    "min = numpy.amin(list1)\n",
    "print(min)"
   ]
  },
  {
   "cell_type": "markdown",
   "metadata": {},
   "source": [
    "The filtered library has a mean depth of coverage 37.0383, maximum depth of coverage 281, and minimum depth of coverage 0."
   ]
  },
  {
   "cell_type": "markdown",
   "metadata": {},
   "source": [
    "### Graph of Depth of Coverage against Position in Genome"
   ]
  },
  {
   "cell_type": "code",
   "execution_count": 8,
   "metadata": {},
   "outputs": [
    {
     "data": {
      "text/plain": [
       "Text(0, 0.5, 'Depth of Coverage')"
      ]
     },
     "execution_count": 8,
     "metadata": {},
     "output_type": "execute_result"
    },
    {
     "data": {
      "image/png": "[encoded data removed]",
      "text/plain": [
       "<Figure size 432x288 with 1 Axes>"
      ]
     },
     "metadata": {
      "needs_background": "light"
     },
     "output_type": "display_data"
    }
   ],
   "source": [
    "Depth of Coverage against Position in Genome¶import matplotlib.pyplot as plt\n",
    "\n",
    "plt.plot(list1)\n",
    "plt.xlabel('Position in Genome') \n",
    "plt.ylabel('Depth of Coverage')"
   ]
  },
  {
   "cell_type": "markdown",
   "metadata": {},
   "source": [
    "The highest coverage exists between 3000000 and 5000000."
   ]
  },
  {
   "cell_type": "markdown",
   "metadata": {},
   "source": [
    "## Histogram of Depth of coverage against Count"
   ]
  },
  {
   "cell_type": "code",
   "execution_count": 3,
   "metadata": {},
   "outputs": [
    {
     "data": {
      "text/plain": [
       "Text(0, 0.5, 'Count')"
      ]
     },
     "execution_count": 3,
     "metadata": {},
     "output_type": "execute_result"
    },
    {
     "data": {
      "image/png": "[encoded data removed]",
      "text/plain": [
       "<Figure size 432x288 with 1 Axes>"
      ]
     },
     "metadata": {
      "needs_background": "light"
     },
     "output_type": "display_data"
    }
   ],
   "source": [
    "plt.hist(list1, 281)\n",
    "plt.xlabel('Depth of Coverage') \n",
    "plt.ylabel('Count')"
   ]
  },
  {
   "cell_type": "markdown",
   "metadata": {},
   "source": [
    "The Depth of Coverage of the bacterial genome shows a symmetrical distribution, slightly skewed to the right."
   ]
  },
  {
   "cell_type": "markdown",
   "metadata": {},
   "source": [
    "# 4. Determine Biological Sex of Jamie\n",
    "The length of each human chromosome from the reference genome is obtained [here.](https://www.ncbi.nlm.nih.gov/grc/human/data)"
   ]
  },
  {
   "cell_type": "code",
   "execution_count": 2,
   "metadata": {
    "scrolled": true
   },
   "outputs": [
    {
     "name": "stdout",
     "output_type": "stream",
     "text": [
      "{'chr1': 2272919, 'chr2': 2408597, 'chr3': 1967583, 'chr4': 1894437, 'chr5': 1796144, 'chr6': 1693304, 'chr7': 1567929, 'chr8': 1443026, 'chr9': 1206697, 'chr10': 1323874, 'chr11': 1325997, 'chr12': 1316961, 'chr13': 967370, 'chr14': 890866, 'chr15': 825516, 'chr16': 797118, 'chr17': 787341, 'chr18': 754875, 'chr19': 560775, 'chr20': 599238, 'chr21': 350957, 'chr22': 352372, 'chrX': 1508460, 'chrY': 244489, 'chr1_gl000191_random': 600, 'chr1_gl000192_random': 900, 'chr4_gl000193_random': 189, 'chr4_gl000194_random': 300, 'chr9_gl000199_random': 468, 'chr9_gl000200_random': 600, 'chr9_gl000201_random': 600, 'chr11_gl000202_random': 300, 'chrUn_gl000213': 300, 'chrUn_gl000214': 182, 'chrUn_gl000215': 900, 'chrUn_gl000217': 600, 'chrUn_gl000222': 807, 'chrUn_gl000223': 900, 'chrUn_gl000226': 300, 'chrUn_gl000227': 600, 'chrUn_gl000228': 898, 'chrUn_gl000233': 208, 'chrUn_gl000245': 300, 'chrUn_gl000247': 300}\n",
      "[0.009129786577668601, 0.009944927141302773, 0.009922476377799264, 0.009959474447157843, 0.009894024597867274, 0.009913610811012653, 0.009839778003050005, 0.00994239741925093, 0.008719241790132783, 0.009894615159326462, 0.009815901681219033, 0.00988150775925044, 0.008458669035330667, 0.008322450085300663, 0.008093993295832644, 0.008823694965853094, 0.009456704296256235, 0.00939211331227783, 0.009566663373003775, 0.00929856072156228, 0.007513533027832616, 0.006933935906922656, 0.009667081184070368, 0.004272235605959137]\n"
     ]
    }
   ],
   "source": [
    "# Open the tab file which contains alignment of Jamie's DNA to the human reference genome\n",
    "ext1 = open(\"../new2.tab\",\"r\")\n",
    "\n",
    "# Add up the depth of coverages for each chromosome\n",
    "list3 = {}\n",
    "for line in ext1:\n",
    "    row = line.split('\\t')\n",
    "    if row[0] in list3:\n",
    "        list3[row[0]] = list3[row[0]] + int(row[2])\n",
    "    else:\n",
    "        list3[row[0]] = int(row[2])\n",
    "print(list3)\n",
    "\n",
    "# Length of each chromosome from the human reference genome\n",
    "chromo = [248956422,\n",
    "         242193529,\n",
    "         198295559,\n",
    "         190214555,\n",
    "         181538259,\n",
    "         170805979,\n",
    "         159345973,\n",
    "         145138636,\n",
    "         138394717,\n",
    "         133797422,\n",
    "         135086622,\n",
    "         133275309,\n",
    "         114364328,\n",
    "         107043718,\n",
    "         101991189,\n",
    "         90338345,\n",
    "         83257441,\n",
    "         80373285,\n",
    "         58617616,\n",
    "         64444167,\n",
    "         46709983,\n",
    "         50818468,\n",
    "         156040895,\n",
    "         57227415]    \n",
    "\n",
    "#Dictionary for depth of chromosome 1 to 24\n",
    "list5 = {'chr1': 2272919, 'chr2': 2408597, 'chr3': 1967583, 'chr4': 1894437, 'chr5': 1796144,'chr6': 1693304,\n",
    "         'chr7': 1567929, 'chr8': 1443026, 'chr9': 1206697, 'chr10': 1323874, 'chr11': 1325997, 'chr12': 1316961,\n",
    "         'chr13': 967370, 'chr14': 890866, 'chr15': 825516, 'chr16': 797118, 'chr17': 787341, 'chr18': 754875,\n",
    "         'chr19': 560775, 'chr20': 599238, 'chr21': 350957, 'chr22': 352372, 'chrX': 1508460, 'chrY': 244489}\n",
    "\n",
    "#Average depth (total depth / length of chromosome) for each human chromosome\n",
    "List4 = []\n",
    "for (v1, v2) in zip(list5.values(), chromo) :\n",
    "    List4.append(v1/v2)\n",
    "print(List4)\n",
    "    "
   ]
  },
  {
   "cell_type": "markdown",
   "metadata": {},
   "source": [
    "## Graph of Average depth for each Human Chromosome"
   ]
  },
  {
   "cell_type": "code",
   "execution_count": 6,
   "metadata": {},
   "outputs": [
    {
     "data": {
      "text/plain": [
       "Text(0.5, 1.0, 'Average depth against Human Chromosome')"
      ]
     },
     "execution_count": 6,
     "metadata": {},
     "output_type": "execute_result"
    },
    {
     "data": {
      "image/png": "[encoded data removed]",
      "text/plain": [
       "<Figure size 432x288 with 1 Axes>"
      ]
     },
     "metadata": {
      "needs_background": "light"
     },
     "output_type": "display_data"
    }
   ],
   "source": [
    "import matplotlib.pyplot as plt\n",
    "List6 = ['1','2','3','4','5','6','7','8','9','10','11','12','13','14','15','16','17','18','19','20','21','22',\n",
    "         'X', 'Y']\n",
    "plt.bar(List6, List4)\n",
    "plt.ylabel('Average depth ') \n",
    "plt.xlabel('Chromosome')\n",
    "plt.title('Average depth against Human Chromosome')"
   ]
  },
  {
   "cell_type": "markdown",
   "metadata": {},
   "source": [
    "The presence of coverage of Y-chromosome when Jamie's DNA was aligned to human reference genome(who is also a male) shows that Jamie have the presence of Y sex chromosome. Therefore, he is male."
   ]
  },
  {
   "cell_type": "markdown",
   "metadata": {},
   "source": [
    "## Histogram of Distribution of coverage depth"
   ]
  },
  {
   "cell_type": "code",
   "execution_count": 7,
   "metadata": {},
   "outputs": [
    {
     "data": {
      "text/plain": [
       "Text(0.5, 1.0, 'Distribution of coverage depth')"
      ]
     },
     "execution_count": 7,
     "metadata": {},
     "output_type": "execute_result"
    },
    {
     "data": {
      "image/png": "[encoded data removed]",
      "text/plain": [
       "<Figure size 432x288 with 1 Axes>"
      ]
     },
     "metadata": {
      "needs_background": "light"
     },
     "output_type": "display_data"
    }
   ],
   "source": [
    "plt.hist(List4)\n",
    "plt.ylabel('Count') \n",
    "plt.xlabel('Average depth')\n",
    "plt.title('Distribution of coverage depth')"
   ]
  },
  {
   "cell_type": "markdown",
   "metadata": {},
   "source": [
    "The histogram is skewed to the left, this shows that most of the chromosomes show average depth of coverage between 0.009 and 0.01."
   ]
  }
 ],
 "metadata": {
  "kernelspec": {
   "display_name": "Python 3",
   "language": "python",
   "name": "python3"
  },
  "language_info": {
   "codemirror_mode": {
    "name": "ipython",
    "version": 3
   },
   "file_extension": ".py",
   "mimetype": "text/x-python",
   "name": "python",
   "nbconvert_exporter": "python",
   "pygments_lexer": "ipython3",
   "version": "3.6.6"
  }
 },
 "nbformat": 4,
 "nbformat_minor": 2
}
